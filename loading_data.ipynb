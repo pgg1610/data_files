{
 "cells": [
  {
   "cell_type": "markdown",
   "metadata": {},
   "source": [
    "## Reading the ChEMBL dataset"
   ]
  },
  {
   "cell_type": "markdown",
   "metadata": {},
   "source": [
    "http://www.dalkescientific.com/writings/diary/archive/2020/09/16/faster_gzip_reading_in_python.html\n",
    "\n",
    "https://github.com/hengwei-chan/standard_smiles/blob/main/python_scripts/stand_struct.py\n",
    "\n",
    "https://iwatobipen.wordpress.com/2021/05/04/read-sdf-with-multi-thread-rdkit-memo-chemoinformatics/"
   ]
  },
  {
   "cell_type": "code",
   "execution_count": 31,
   "metadata": {},
   "outputs": [],
   "source": [
    "import os \n",
    "import gzip\n",
    "from typing import List, Set, Callable, Union, Tuple\n",
    "import pandas as pd \n",
    "import tqdm.notebook as tqdm\n",
    "import numpy as np"
   ]
  },
  {
   "cell_type": "code",
   "execution_count": 32,
   "metadata": {},
   "outputs": [
    {
     "name": "stdout",
     "output_type": "stream",
     "text": [
      "2021.03.5\n"
     ]
    }
   ],
   "source": [
    "import rdkit\n",
    "from rdkit import Chem #This gives us most of RDkits's functionality\n",
    "from rdkit.Chem import Draw\n",
    "from rdkit.Chem.Draw import IPythonConsole #Needed to show molecules\n",
    "IPythonConsole.ipython_useSVG=True  #SVG's tend to look nicer than the png counterparts\n",
    "print(rdkit.__version__)\n",
    "\n",
    "# Mute all errors except critical\n",
    "Chem.WrapLogs()\n",
    "lg = rdkit.RDLogger.logger() \n",
    "lg.setLevel(rdkit.RDLogger.CRITICAL)"
   ]
  },
  {
   "cell_type": "code",
   "execution_count": 33,
   "metadata": {},
   "outputs": [
    {
     "data": {
      "text/plain": [
       "rdkit.Chem.rdchem.Mol"
      ]
     },
     "execution_count": 33,
     "metadata": {},
     "output_type": "execute_result"
    }
   ],
   "source": [
    "type(Chem.MolFromSmiles('C'))"
   ]
  },
  {
   "cell_type": "code",
   "execution_count": 41,
   "metadata": {},
   "outputs": [],
   "source": [
    "#https://github.com/hengwei-chan/standard_smiles/blob/main/utils.py\n",
    "    \n",
    "def mol_to_smiles(mol: Chem.Mol, canonical: bool = True) -> str:\n",
    "    \"\"\"Generate Smiles from mol.\n",
    "    Parameters:\n",
    "    ===========\n",
    "    mol: the input molecule\n",
    "    canonical: whether to return the canonical Smiles or not\n",
    "    Returns:\n",
    "    ========\n",
    "    The Smiles of the molecule (canonical by default). NAN for failed molecules.\"\"\"\n",
    "\n",
    "    if mol is None:\n",
    "        return np.nan\n",
    "    try:\n",
    "        smi = Chem.MolToSmiles(mol, canonical=canonical)\n",
    "        return smi\n",
    "    except:\n",
    "        return np.nan\n",
    "\n",
    "\n",
    "def smiles_to_mol(smiles: str) -> Chem.Mol:\n",
    "    \"\"\"Generate a RDKit Molecule from a Smiles.\n",
    "    Parameters:\n",
    "    ===========\n",
    "    smiles: the input string\n",
    "    Returns:\n",
    "    ========\n",
    "    The RDKit Molecule. If the Smiles parsing failed, NAN is returned instead.\n",
    "    \"\"\"\n",
    "\n",
    "    try:\n",
    "        mol = Chem.MolFromSmiles(smiles)\n",
    "        if mol is not None:\n",
    "            return mol\n",
    "        return np.nan\n",
    "    except:\n",
    "        return np.nan\n",
    "\n",
    "\n",
    "def add_mol_col(df: pd.DataFrame, smiles_col=\"Smiles\") -> pd.DataFrame:\n",
    "    \"\"\"Add a column containing the RDKit Molecule.\n",
    "    Parameters:\n",
    "    ===========\n",
    "    df: the input DataFrame\n",
    "    smiles_col: the name of the column containing the Smiles\n",
    "    Returns:\n",
    "    ========\n",
    "    A DataFrame with a column containing the RDKit Molecule.\n",
    "    \"\"\"\n",
    "\n",
    "    df[\"Mol\"] = df[smiles_col].apply(smiles_to_mol)\n",
    "    return df\n",
    "\n",
    "\n",
    "def drop_cols(df: pd.DataFrame, cols: List[str]) -> pd.DataFrame:\n",
    "    \"\"\"Remove the list of columns from the dataframe.\n",
    "    Listed columns that are not available in the dataframe are simply ignored.\"\"\"\n",
    "    df = df.copy()\n",
    "    cols_to_remove = set(cols).intersection(set(df.keys()))\n",
    "    df = df.drop(cols_to_remove, axis=1)\n",
    "    return df\n",
    "\n",
    "def get_value(str_val):\n",
    "    \"\"\"convert a string into float or int, if possible.\"\"\"\n",
    "    if not str_val:\n",
    "        return np.nan\n",
    "    try:\n",
    "        val = float(str_val)\n",
    "        if \".\" not in str_val:\n",
    "            val = int(val)\n",
    "    except ValueError:\n",
    "        val = str_val\n",
    "    return val\n",
    "\n",
    "# Make a general reading file for any format \n",
    "\n",
    "def read_sdf(fn, keep_mols=True, merge_prop: str = None, merge_list: Union[List, Set] = None) -> pd.DataFrame:\n",
    "    \"\"\"Create a DataFrame instance from an SD file.\n",
    "    The input can be a single SD file or a list of files and they can be gzipped (fn ends with `.gz`).\n",
    "    If a list of files is used, all files need to have the same fields.\n",
    "    The molecules will be converted to Smiles and can optionally be stored as a `Mol` column.\n",
    "    Records with no valid molecule will be dropped.\n",
    "    Parameters:\n",
    "    ===========\n",
    "    merge_prop: A property in the SD file on which the file should be merge\n",
    "        during reading.\n",
    "    merge_list: A list or set of values on which to merge.\n",
    "        Only the values of the list are kept.\n",
    "    Returns:\n",
    "    ========\n",
    "    A Pandas DataFrame containing the structures as Smiles.\n",
    "    \"\"\"\n",
    "\n",
    "    d = {\"Smiles\": []}\n",
    "    if keep_mols:\n",
    "        d[\"Mol\"] = []\n",
    "    ctr = {x: 0 for x in [\"In\", \"Out\", \"Fail_NoMol\"]}\n",
    "    if merge_prop is not None:\n",
    "        ctr[\"NotMerged\"] = 0\n",
    "    first_mol = True\n",
    "    sd_props = set()\n",
    "    if not isinstance(fn, list):\n",
    "        fn = [fn]\n",
    "    for f in fn:\n",
    "        do_close = True\n",
    "        if isinstance(f, str):\n",
    "            if f.endswith(\".gz\"):\n",
    "                file_obj = gzip.open(f, mode=\"rb\")\n",
    "            else:\n",
    "                file_obj = open(f, \"rb\")\n",
    "        else:\n",
    "            file_obj = f\n",
    "            do_close = False\n",
    "        reader = Chem.ForwardSDMolSupplier(file_obj)\n",
    "        \n",
    "        for mol_index, mol in enumerate(reader):\n",
    "            ctr[\"In\"] += 1\n",
    "            \n",
    "            if ctr[\"In\"] == 1000: \n",
    "                break\n",
    "                \n",
    "            if not mol:\n",
    "                ctr[\"Fail_NoMol\"] += 1\n",
    "                continue\n",
    "                \n",
    "            if first_mol:\n",
    "                first_mol = False\n",
    "                # Is the SD file name property used?\n",
    "                name = mol.GetProp(\"_Name\")\n",
    "                if len(name) > 0:\n",
    "                    has_name = True\n",
    "                    d[\"Name\"] = []\n",
    "                else:\n",
    "                    has_name = False\n",
    "                    \n",
    "                for prop in mol.GetPropNames():\n",
    "                    sd_props.add(prop)\n",
    "                    d[prop] = []\n",
    "                    \n",
    "            if merge_prop is not None:\n",
    "                # Only keep the record when the `merge_prop` value is in `merge_list`:\n",
    "                if get_value(mol.GetProp(merge_prop)) not in merge_list:\n",
    "                    ctr[\"NotMerged\"] += 1\n",
    "                    continue\n",
    "                    \n",
    "            mol_props = set()\n",
    "            ctr[\"Out\"] += 1\n",
    "            \n",
    "            for prop in mol.GetPropNames():\n",
    "                if prop in sd_props:\n",
    "                    mol_props.add(prop)\n",
    "                    d[prop].append(get_value(mol.GetProp(prop)))\n",
    "                mol.ClearProp(prop)\n",
    "            if has_name:\n",
    "                d[\"Name\"].append(get_value(mol.GetProp(\"_Name\")))\n",
    "                mol.ClearProp(\"_Name\")\n",
    "\n",
    "            # append NAN to the missing props that were not in the mol:\n",
    "            missing_props = sd_props - mol_props\n",
    "            for prop in missing_props:\n",
    "                d[prop].append(np.nan)\n",
    "            d[\"Smiles\"].append(mol_to_smiles(mol))\n",
    "            if keep_mols:\n",
    "                d[\"Mol\"].append(mol)\n",
    "                \n",
    "        if do_close:\n",
    "            file_obj.close()\n",
    "            \n",
    "    # Make sure, that all columns have the same length.\n",
    "    # Although, Pandas would also complain, if this was not the case.\n",
    "    d_keys = list(d.keys())\n",
    "    \n",
    "    if len(d_keys) > 1:\n",
    "        k_len = len(d[d_keys[0]])\n",
    "        for k in d_keys[1:]:\n",
    "            assert k_len == len(d[k]), f\"{k_len=} != {len(d[k])}\"\n",
    "            \n",
    "    result = pd.DataFrame(d)\n",
    "    \n",
    "    print(ctr)\n",
    "    return result"
   ]
  },
  {
   "cell_type": "code",
   "execution_count": 38,
   "metadata": {},
   "outputs": [
    {
     "name": "stdout",
     "output_type": "stream",
     "text": [
      "{'In': 1000, 'Out': 999, 'Fail_NoMol': 0}\n"
     ]
    }
   ],
   "source": [
    "x = read_sdf('curated_set_with_publication_year.sd.gz')"
   ]
  },
  {
   "cell_type": "code",
   "execution_count": 40,
   "metadata": {},
   "outputs": [
    {
     "data": {
      "text/plain": [
       "Index(['Smiles', 'Mol', 'TC_key', 'BIOACT_PCHEMBL_VALUE', 'TGT_CHEMBL_ID',\n",
       "       'TGT_ORGANISM', 'TGT_TID', 'CMP_ACD_LOGD', 'CMP_ACD_LOGP', 'CMP_ALOGP',\n",
       "       'CMP_AROMATIC_RINGS', 'CMP_CHEMBL_ID', 'CMP_FULL_MWT', 'CMP_HBA',\n",
       "       'CMP_HBD', 'CMP_HEAVY_ATOMS', 'CMP_INORGANIC_FLAG', 'CMP_LOGP',\n",
       "       'CMP_MED_CHEM_FRIENDLY', 'CMP_MOLREGNO', 'CMP_NUM_ALERTS',\n",
       "       'CMP_NUM_RO5_VIOLATIONS', 'CMP_PSA', 'CMP_RO3_PASS', 'CMP_RTB',\n",
       "       'CMP_STANDARD_INCHI_KEY', 'CMP_STRUCTURE_TYPE', 'DOC_YEAR',\n",
       "       'CMP_MOLECULAR_SPECIES_ACID', 'CMP_MOLECULAR_SPECIES_BASE',\n",
       "       'CMP_MOLECULAR_SPECIES_NEUTRAL', 'CMP_MOLECULAR_SPECIES_ZWITTERION',\n",
       "       'CMP_TYPE_SMALL_MOLECULE', 'CMP_TYPE_PROTEIN'],\n",
       "      dtype='object')"
      ]
     },
     "execution_count": 40,
     "metadata": {},
     "output_type": "execute_result"
    }
   ],
   "source": [
    "x.columns"
   ]
  },
  {
   "cell_type": "code",
   "execution_count": 44,
   "metadata": {},
   "outputs": [
    {
     "data": {
      "text/plain": [
       "0      231.95\n",
       "1      191.11\n",
       "2       85.89\n",
       "3       91.10\n",
       "4       26.30\n",
       "        ...  \n",
       "994     89.94\n",
       "995     99.17\n",
       "996     89.94\n",
       "997     76.14\n",
       "998     76.14\n",
       "Name: CMP_PSA, Length: 999, dtype: float64"
      ]
     },
     "execution_count": 44,
     "metadata": {},
     "output_type": "execute_result"
    }
   ],
   "source": [
    "x.CMP_PSA"
   ]
  },
  {
   "cell_type": "code",
   "execution_count": null,
   "metadata": {},
   "outputs": [],
   "source": [
    "import gzip\n",
    "\n",
    "def molgen(hnd):\n",
    "    mol_text_tmp = \"\"\n",
    "    _iter = 0\n",
    "    while _iter < 10_000:\n",
    "        line = hnd.readline()\n",
    "        if not line:\n",
    "            return\n",
    "        line = line.decode(\"utf-8\")\n",
    "        mol_text_tmp += line\n",
    "        if line.startswith(\"$$$$\"):\n",
    "            mol_text = mol_text_tmp\n",
    "            mol_text_tmp = \"\"\n",
    "            yield mol_text\n",
    "        \n",
    "        _iter = _iter + 1\n",
    "        \n",
    "with gzip.open(\"curated_set_with_publication_year.sd.gz\", \"rb\") as gzip_hnd:\n",
    "    for mol_text in molgen(gzip_hnd):\n",
    "        #print(mol_text)\n",
    "        suppl = Chem.SDMolSupplier()\n",
    "        suppl.SetData(mol_text)\n",
    "        mol = next(suppl)\n",
    "        #print(mol.GetNumAtoms())\n",
    "        #print(\"------------------\")\n"
   ]
  }
 ],
 "metadata": {
  "kernelspec": {
   "display_name": "chemprop_pgg",
   "language": "python",
   "name": "chemprop_pgg"
  },
  "language_info": {
   "codemirror_mode": {
    "name": "ipython",
    "version": 3
   },
   "file_extension": ".py",
   "mimetype": "text/x-python",
   "name": "python",
   "nbconvert_exporter": "python",
   "pygments_lexer": "ipython3",
   "version": "3.8.5"
  }
 },
 "nbformat": 4,
 "nbformat_minor": 4
}
