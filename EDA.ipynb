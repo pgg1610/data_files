{
 "cells": [
  {
   "cell_type": "markdown",
   "metadata": {},
   "source": [
    "# Doodling with ChEMBL "
   ]
  },
  {
   "cell_type": "code",
   "execution_count": 1,
   "metadata": {},
   "outputs": [],
   "source": [
    "import os \n",
    "import numpy as np \n",
    "import pandas as pd \n",
    "import sys \n",
    "import gzip\n",
    "import pickle"
   ]
  },
  {
   "cell_type": "code",
   "execution_count": 2,
   "metadata": {},
   "outputs": [
    {
     "name": "stdout",
     "output_type": "stream",
     "text": [
      "2021.03.5\n"
     ]
    }
   ],
   "source": [
    "# RDkit imports\n",
    "import rdkit\n",
    "from rdkit import Chem\n",
    "from rdkit.Chem import Draw\n",
    "from rdkit.Chem.Draw import IPythonConsole #Needed to show molecules\n",
    "\n",
    "print(rdkit.__version__)\n",
    "\n",
    "Chem.WrapLogs()\n",
    "lg = rdkit.RDLogger.logger() \n",
    "lg.setLevel(rdkit.RDLogger.CRITICAL)"
   ]
  },
  {
   "cell_type": "code",
   "execution_count": 3,
   "metadata": {},
   "outputs": [],
   "source": [
    "chembl_path = '/lrlhps/users/l017301/SHARE/doodle/DATA/ChEMBL_dataset/clean_chembl.pkl.gz'"
   ]
  },
  {
   "cell_type": "code",
   "execution_count": 4,
   "metadata": {},
   "outputs": [],
   "source": [
    "with gzip.open(chembl_path,'rb') as f:\n",
    "    chembl_df = pickle.load(f)"
   ]
  },
  {
   "cell_type": "code",
   "execution_count": 5,
   "metadata": {},
   "outputs": [
    {
     "data": {
      "text/plain": [
       "(314767, 34)"
      ]
     },
     "execution_count": 5,
     "metadata": {},
     "output_type": "execute_result"
    }
   ],
   "source": [
    "chembl_df.shape"
   ]
  },
  {
   "cell_type": "code",
   "execution_count": 23,
   "metadata": {},
   "outputs": [
    {
     "data": {
      "text/plain": [
       "(204077,)"
      ]
     },
     "execution_count": 23,
     "metadata": {},
     "output_type": "execute_result"
    }
   ],
   "source": [
    "np.unique(chembl_df['Smiles']).shape"
   ]
  },
  {
   "cell_type": "code",
   "execution_count": 6,
   "metadata": {},
   "outputs": [
    {
     "data": {
      "text/html": [
       "<div>\n",
       "<style scoped>\n",
       "    .dataframe tbody tr th:only-of-type {\n",
       "        vertical-align: middle;\n",
       "    }\n",
       "\n",
       "    .dataframe tbody tr th {\n",
       "        vertical-align: top;\n",
       "    }\n",
       "\n",
       "    .dataframe thead th {\n",
       "        text-align: right;\n",
       "    }\n",
       "</style>\n",
       "<table border=\"1\" class=\"dataframe\">\n",
       "  <thead>\n",
       "    <tr style=\"text-align: right;\">\n",
       "      <th></th>\n",
       "      <th>Smiles</th>\n",
       "      <th>Mol</th>\n",
       "      <th>TC_key</th>\n",
       "      <th>BIOACT_PCHEMBL_VALUE</th>\n",
       "      <th>TGT_CHEMBL_ID</th>\n",
       "      <th>TGT_ORGANISM</th>\n",
       "      <th>TGT_TID</th>\n",
       "      <th>CMP_ACD_LOGD</th>\n",
       "      <th>CMP_ACD_LOGP</th>\n",
       "      <th>CMP_ALOGP</th>\n",
       "      <th>...</th>\n",
       "      <th>CMP_RTB</th>\n",
       "      <th>CMP_STANDARD_INCHI_KEY</th>\n",
       "      <th>CMP_STRUCTURE_TYPE</th>\n",
       "      <th>DOC_YEAR</th>\n",
       "      <th>CMP_MOLECULAR_SPECIES_ACID</th>\n",
       "      <th>CMP_MOLECULAR_SPECIES_BASE</th>\n",
       "      <th>CMP_MOLECULAR_SPECIES_NEUTRAL</th>\n",
       "      <th>CMP_MOLECULAR_SPECIES_ZWITTERION</th>\n",
       "      <th>CMP_TYPE_SMALL_MOLECULE</th>\n",
       "      <th>CMP_TYPE_PROTEIN</th>\n",
       "    </tr>\n",
       "  </thead>\n",
       "  <tbody>\n",
       "    <tr>\n",
       "      <th>227706</th>\n",
       "      <td>O=C(O)c1[nH]c2c([N+](=O)[O-])cccc2c1-c1ccccc1</td>\n",
       "      <td>&lt;rdkit.Chem.rdchem.Mol object at 0x2ba14e36c870&gt;</td>\n",
       "      <td>CHEMBL3975 - CHEMBL3127752</td>\n",
       "      <td>4.90</td>\n",
       "      <td>CHEMBL3975</td>\n",
       "      <td>Homo sapiens</td>\n",
       "      <td>11415</td>\n",
       "      <td>2.98</td>\n",
       "      <td>3.03</td>\n",
       "      <td>3.46</td>\n",
       "      <td>...</td>\n",
       "      <td>3</td>\n",
       "      <td>BQXZKLVLIANTAV-UHFFFAOYSA-N</td>\n",
       "      <td>MOL</td>\n",
       "      <td>2014</td>\n",
       "      <td>0</td>\n",
       "      <td>0</td>\n",
       "      <td>0</td>\n",
       "      <td>1</td>\n",
       "      <td>1</td>\n",
       "      <td>0</td>\n",
       "    </tr>\n",
       "    <tr>\n",
       "      <th>175290</th>\n",
       "      <td>O=S(=O)(c1cccc2ccccc12)c1nn(Cc2ccccc2)c2ccc(N3...</td>\n",
       "      <td>&lt;rdkit.Chem.rdchem.Mol object at 0x2ba14dae9870&gt;</td>\n",
       "      <td>CHEMBL3371 - CHEMBL1278001</td>\n",
       "      <td>8.12</td>\n",
       "      <td>CHEMBL3371</td>\n",
       "      <td>Homo sapiens</td>\n",
       "      <td>10627</td>\n",
       "      <td>3.42</td>\n",
       "      <td>4.69</td>\n",
       "      <td>5.40</td>\n",
       "      <td>...</td>\n",
       "      <td>5</td>\n",
       "      <td>CPKUIKQUAANRIQ-UHFFFAOYSA-N</td>\n",
       "      <td>MOL</td>\n",
       "      <td>2010</td>\n",
       "      <td>0</td>\n",
       "      <td>0</td>\n",
       "      <td>0</td>\n",
       "      <td>1</td>\n",
       "      <td>1</td>\n",
       "      <td>0</td>\n",
       "    </tr>\n",
       "  </tbody>\n",
       "</table>\n",
       "<p>2 rows × 34 columns</p>\n",
       "</div>"
      ],
      "text/plain": [
       "                                                   Smiles  \\\n",
       "227706      O=C(O)c1[nH]c2c([N+](=O)[O-])cccc2c1-c1ccccc1   \n",
       "175290  O=S(=O)(c1cccc2ccccc12)c1nn(Cc2ccccc2)c2ccc(N3...   \n",
       "\n",
       "                                                     Mol  \\\n",
       "227706  <rdkit.Chem.rdchem.Mol object at 0x2ba14e36c870>   \n",
       "175290  <rdkit.Chem.rdchem.Mol object at 0x2ba14dae9870>   \n",
       "\n",
       "                            TC_key  BIOACT_PCHEMBL_VALUE TGT_CHEMBL_ID  \\\n",
       "227706  CHEMBL3975 - CHEMBL3127752                  4.90    CHEMBL3975   \n",
       "175290  CHEMBL3371 - CHEMBL1278001                  8.12    CHEMBL3371   \n",
       "\n",
       "        TGT_ORGANISM  TGT_TID  CMP_ACD_LOGD  CMP_ACD_LOGP  CMP_ALOGP  ...  \\\n",
       "227706  Homo sapiens    11415          2.98          3.03       3.46  ...   \n",
       "175290  Homo sapiens    10627          3.42          4.69       5.40  ...   \n",
       "\n",
       "        CMP_RTB       CMP_STANDARD_INCHI_KEY  CMP_STRUCTURE_TYPE  DOC_YEAR  \\\n",
       "227706        3  BQXZKLVLIANTAV-UHFFFAOYSA-N                 MOL      2014   \n",
       "175290        5  CPKUIKQUAANRIQ-UHFFFAOYSA-N                 MOL      2010   \n",
       "\n",
       "        CMP_MOLECULAR_SPECIES_ACID  CMP_MOLECULAR_SPECIES_BASE  \\\n",
       "227706                           0                           0   \n",
       "175290                           0                           0   \n",
       "\n",
       "        CMP_MOLECULAR_SPECIES_NEUTRAL  CMP_MOLECULAR_SPECIES_ZWITTERION  \\\n",
       "227706                              0                                 1   \n",
       "175290                              0                                 1   \n",
       "\n",
       "       CMP_TYPE_SMALL_MOLECULE  CMP_TYPE_PROTEIN  \n",
       "227706                       1                 0  \n",
       "175290                       1                 0  \n",
       "\n",
       "[2 rows x 34 columns]"
      ]
     },
     "execution_count": 6,
     "metadata": {},
     "output_type": "execute_result"
    }
   ],
   "source": [
    "chembl_df.sample(2)"
   ]
  },
  {
   "cell_type": "code",
   "execution_count": 32,
   "metadata": {},
   "outputs": [
    {
     "data": {
      "text/plain": [
       "Homo sapiens                            237081\n",
       "Rattus norvegicus                        29616\n",
       "Mus musculus                              9609\n",
       "Cavia porcellus                           8461\n",
       "Human immunodeficiency virus 1            4616\n",
       "                                         ...  \n",
       "Brucella suis biovar 1 (strain 1330)        29\n",
       "Streptococcus pneumoniae                    28\n",
       "Vibrio harveyi                              25\n",
       "Methanosarcina thermophila                  24\n",
       "Crithidia fasciculata                       13\n",
       "Name: TGT_ORGANISM, Length: 84, dtype: int64"
      ]
     },
     "execution_count": 32,
     "metadata": {},
     "output_type": "execute_result"
    }
   ],
   "source": [
    "chembl_df['TGT_ORGANISM'].value_counts()"
   ]
  },
  {
   "cell_type": "code",
   "execution_count": 7,
   "metadata": {},
   "outputs": [
    {
     "data": {
      "text/plain": [
       "Index(['Smiles', 'Mol', 'TC_key', 'BIOACT_PCHEMBL_VALUE', 'TGT_CHEMBL_ID',\n",
       "       'TGT_ORGANISM', 'TGT_TID', 'CMP_ACD_LOGD', 'CMP_ACD_LOGP', 'CMP_ALOGP',\n",
       "       'CMP_AROMATIC_RINGS', 'CMP_CHEMBL_ID', 'CMP_FULL_MWT', 'CMP_HBA',\n",
       "       'CMP_HBD', 'CMP_HEAVY_ATOMS', 'CMP_INORGANIC_FLAG', 'CMP_LOGP',\n",
       "       'CMP_MED_CHEM_FRIENDLY', 'CMP_MOLREGNO', 'CMP_NUM_ALERTS',\n",
       "       'CMP_NUM_RO5_VIOLATIONS', 'CMP_PSA', 'CMP_RO3_PASS', 'CMP_RTB',\n",
       "       'CMP_STANDARD_INCHI_KEY', 'CMP_STRUCTURE_TYPE', 'DOC_YEAR',\n",
       "       'CMP_MOLECULAR_SPECIES_ACID', 'CMP_MOLECULAR_SPECIES_BASE',\n",
       "       'CMP_MOLECULAR_SPECIES_NEUTRAL', 'CMP_MOLECULAR_SPECIES_ZWITTERION',\n",
       "       'CMP_TYPE_SMALL_MOLECULE', 'CMP_TYPE_PROTEIN'],\n",
       "      dtype='object')"
      ]
     },
     "execution_count": 7,
     "metadata": {},
     "output_type": "execute_result"
    }
   ],
   "source": [
    "chembl_df.columns"
   ]
  },
  {
   "cell_type": "code",
   "execution_count": 24,
   "metadata": {},
   "outputs": [
    {
     "data": {
      "text/plain": [
       "<AxesSubplot:>"
      ]
     },
     "execution_count": 24,
     "metadata": {},
     "output_type": "execute_result"
    },
    {
     "data": {
      "image/png": "[encoded data removed]",
      "text/plain": [
       "<Figure size 432x288 with 1 Axes>"
      ]
     },
     "metadata": {
      "needs_background": "light"
     },
     "output_type": "display_data"
    }
   ],
   "source": [
    "chembl_df['DOC_YEAR'].hist()"
   ]
  },
  {
   "cell_type": "code",
   "execution_count": 8,
   "metadata": {},
   "outputs": [
    {
     "data": {
      "text/plain": [
       "<AxesSubplot:>"
      ]
     },
     "execution_count": 8,
     "metadata": {},
     "output_type": "execute_result"
    },
    {
     "data": {
      "image/png": "[encoded data removed]",
      "text/plain": [
       "<Figure size 432x288 with 1 Axes>"
      ]
     },
     "metadata": {
      "needs_background": "light"
     },
     "output_type": "display_data"
    }
   ],
   "source": [
    "chembl_df['BIOACT_PCHEMBL_VALUE'].hist()"
   ]
  },
  {
   "cell_type": "code",
   "execution_count": 28,
   "metadata": {},
   "outputs": [],
   "source": [
    "def convert_to_cat(panda_series):\n",
    "    \n",
    "    cat_list = [42] * len(panda_series) \n",
    "\n",
    "    for i, entry in enumerate(panda_series):\n",
    "        if float(entry) >= 6.5: \n",
    "            cat_list[i] = 1\n",
    "        else:\n",
    "            cat_list[i] = 0\n",
    "    \n",
    "    return cat_list"
   ]
  },
  {
   "cell_type": "code",
   "execution_count": 29,
   "metadata": {},
   "outputs": [],
   "source": [
    "chembl_df['active_cat'] = convert_to_cat(chembl_df['BIOACT_PCHEMBL_VALUE'])"
   ]
  },
  {
   "cell_type": "code",
   "execution_count": 30,
   "metadata": {},
   "outputs": [
    {
     "data": {
      "text/plain": [
       "1    55.144917\n",
       "0    44.855083\n",
       "Name: active_cat, dtype: float64"
      ]
     },
     "execution_count": 30,
     "metadata": {},
     "output_type": "execute_result"
    }
   ],
   "source": [
    "chembl_df['active_cat'].value_counts(normalize=True)*100"
   ]
  },
  {
   "cell_type": "code",
   "execution_count": 15,
   "metadata": {},
   "outputs": [
    {
     "data": {
      "text/plain": [
       "CMP_ACD_LOGD    586\n",
       "dtype: int64"
      ]
     },
     "execution_count": 15,
     "metadata": {},
     "output_type": "execute_result"
    }
   ],
   "source": [
    "null_columns=chembl_df.columns[chembl_df.isnull().any()]\n",
    "chembl_df[null_columns].isnull().sum()"
   ]
  },
  {
   "cell_type": "code",
   "execution_count": null,
   "metadata": {},
   "outputs": [],
   "source": [
    "chembl_df_predictions = chembl_df[['Smiles','Mol','CMP_PSA']]"
   ]
  }
 ],
 "metadata": {
  "kernelspec": {
   "display_name": "chemprop_pgg",
   "language": "python",
   "name": "chemprop_pgg"
  },
  "language_info": {
   "codemirror_mode": {
    "name": "ipython",
    "version": 3
   },
   "file_extension": ".py",
   "mimetype": "text/x-python",
   "name": "python",
   "nbconvert_exporter": "python",
   "pygments_lexer": "ipython3",
   "version": "3.8.5"
  }
 },
 "nbformat": 4,
 "nbformat_minor": 4
}
