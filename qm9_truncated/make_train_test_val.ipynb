{
 "cells": [
  {
   "cell_type": "markdown",
   "metadata": {},
   "source": [
    "# Split QM9 data "
   ]
  },
  {
   "cell_type": "code",
   "execution_count": 1,
   "metadata": {},
   "outputs": [],
   "source": [
    "import pandas as pd \n",
    "import os \n",
    "import numpy as np\n",
    "np.random.seed(42)"
   ]
  },
  {
   "cell_type": "code",
   "execution_count": 2,
   "metadata": {},
   "outputs": [],
   "source": [
    "df = pd.read_csv('qm9.csv')"
   ]
  },
  {
   "cell_type": "code",
   "execution_count": 3,
   "metadata": {},
   "outputs": [
    {
     "data": {
      "text/html": [
       "<div>\n",
       "<style scoped>\n",
       "    .dataframe tbody tr th:only-of-type {\n",
       "        vertical-align: middle;\n",
       "    }\n",
       "\n",
       "    .dataframe tbody tr th {\n",
       "        vertical-align: top;\n",
       "    }\n",
       "\n",
       "    .dataframe thead th {\n",
       "        text-align: right;\n",
       "    }\n",
       "</style>\n",
       "<table border=\"1\" class=\"dataframe\">\n",
       "  <thead>\n",
       "    <tr style=\"text-align: right;\">\n",
       "      <th></th>\n",
       "      <th>smiles</th>\n",
       "      <th>mu</th>\n",
       "      <th>alpha</th>\n",
       "      <th>homo</th>\n",
       "      <th>lumo</th>\n",
       "      <th>gap</th>\n",
       "      <th>r2</th>\n",
       "      <th>zpve</th>\n",
       "      <th>cv</th>\n",
       "      <th>u0</th>\n",
       "      <th>u298</th>\n",
       "      <th>h298</th>\n",
       "      <th>g298</th>\n",
       "    </tr>\n",
       "  </thead>\n",
       "  <tbody>\n",
       "    <tr>\n",
       "      <th>3115</th>\n",
       "      <td>N#CC12CC1CO2</td>\n",
       "      <td>4.5933</td>\n",
       "      <td>55.81</td>\n",
       "      <td>-0.2627</td>\n",
       "      <td>-0.0086</td>\n",
       "      <td>0.2541</td>\n",
       "      <td>650.3290</td>\n",
       "      <td>0.090625</td>\n",
       "      <td>21.459</td>\n",
       "      <td>-323.338627</td>\n",
       "      <td>-323.332830</td>\n",
       "      <td>-323.331885</td>\n",
       "      <td>-323.368166</td>\n",
       "    </tr>\n",
       "    <tr>\n",
       "      <th>117879</th>\n",
       "      <td>COCC(O)C#CC=O</td>\n",
       "      <td>3.4068</td>\n",
       "      <td>77.34</td>\n",
       "      <td>-0.2697</td>\n",
       "      <td>-0.0657</td>\n",
       "      <td>0.2040</td>\n",
       "      <td>1808.5114</td>\n",
       "      <td>0.131823</td>\n",
       "      <td>35.183</td>\n",
       "      <td>-458.914682</td>\n",
       "      <td>-458.903948</td>\n",
       "      <td>-458.903004</td>\n",
       "      <td>-458.952489</td>\n",
       "    </tr>\n",
       "    <tr>\n",
       "      <th>23433</th>\n",
       "      <td>COC1C2CC(=NO)C12</td>\n",
       "      <td>1.2920</td>\n",
       "      <td>76.75</td>\n",
       "      <td>-0.2258</td>\n",
       "      <td>0.0156</td>\n",
       "      <td>0.2414</td>\n",
       "      <td>1215.4323</td>\n",
       "      <td>0.146098</td>\n",
       "      <td>32.710</td>\n",
       "      <td>-438.996978</td>\n",
       "      <td>-438.988148</td>\n",
       "      <td>-438.987204</td>\n",
       "      <td>-439.030829</td>\n",
       "    </tr>\n",
       "    <tr>\n",
       "      <th>61955</th>\n",
       "      <td>CC(CC=O)OCC#C</td>\n",
       "      <td>3.1488</td>\n",
       "      <td>79.50</td>\n",
       "      <td>-0.2438</td>\n",
       "      <td>-0.0199</td>\n",
       "      <td>0.2239</td>\n",
       "      <td>1685.1071</td>\n",
       "      <td>0.154138</td>\n",
       "      <td>36.895</td>\n",
       "      <td>-422.988608</td>\n",
       "      <td>-422.977883</td>\n",
       "      <td>-422.976938</td>\n",
       "      <td>-423.026195</td>\n",
       "    </tr>\n",
       "    <tr>\n",
       "      <th>98811</th>\n",
       "      <td>COC(=N)N1CCC1=N</td>\n",
       "      <td>1.9135</td>\n",
       "      <td>77.81</td>\n",
       "      <td>-0.2343</td>\n",
       "      <td>0.0056</td>\n",
       "      <td>0.2400</td>\n",
       "      <td>1271.6972</td>\n",
       "      <td>0.147974</td>\n",
       "      <td>32.448</td>\n",
       "      <td>-435.272093</td>\n",
       "      <td>-435.262958</td>\n",
       "      <td>-435.262014</td>\n",
       "      <td>-435.306724</td>\n",
       "    </tr>\n",
       "  </tbody>\n",
       "</table>\n",
       "</div>"
      ],
      "text/plain": [
       "                  smiles      mu  alpha    homo    lumo     gap         r2  \\\n",
       "3115        N#CC12CC1CO2  4.5933  55.81 -0.2627 -0.0086  0.2541   650.3290   \n",
       "117879     COCC(O)C#CC=O  3.4068  77.34 -0.2697 -0.0657  0.2040  1808.5114   \n",
       "23433   COC1C2CC(=NO)C12  1.2920  76.75 -0.2258  0.0156  0.2414  1215.4323   \n",
       "61955      CC(CC=O)OCC#C  3.1488  79.50 -0.2438 -0.0199  0.2239  1685.1071   \n",
       "98811    COC(=N)N1CCC1=N  1.9135  77.81 -0.2343  0.0056  0.2400  1271.6972   \n",
       "\n",
       "            zpve      cv          u0        u298        h298        g298  \n",
       "3115    0.090625  21.459 -323.338627 -323.332830 -323.331885 -323.368166  \n",
       "117879  0.131823  35.183 -458.914682 -458.903948 -458.903004 -458.952489  \n",
       "23433   0.146098  32.710 -438.996978 -438.988148 -438.987204 -439.030829  \n",
       "61955   0.154138  36.895 -422.988608 -422.977883 -422.976938 -423.026195  \n",
       "98811   0.147974  32.448 -435.272093 -435.262958 -435.262014 -435.306724  "
      ]
     },
     "execution_count": 3,
     "metadata": {},
     "output_type": "execute_result"
    }
   ],
   "source": [
    "df.sample(5)"
   ]
  },
  {
   "cell_type": "code",
   "execution_count": 4,
   "metadata": {},
   "outputs": [],
   "source": [
    "df_subsample = df.sample(50_000, random_state=42)"
   ]
  },
  {
   "cell_type": "code",
   "execution_count": 5,
   "metadata": {},
   "outputs": [
    {
     "data": {
      "text/plain": [
       "50000"
      ]
     },
     "execution_count": 5,
     "metadata": {},
     "output_type": "execute_result"
    }
   ],
   "source": [
    "len(df_subsample)"
   ]
  },
  {
   "cell_type": "code",
   "execution_count": 8,
   "metadata": {},
   "outputs": [],
   "source": [
    "_train_size = 0.8 \n",
    "_val_size = 0.1\n",
    "_train_val_size = _train_size + _val_size"
   ]
  },
  {
   "cell_type": "code",
   "execution_count": 9,
   "metadata": {},
   "outputs": [],
   "source": [
    "train, validate, test = np.split(df_subsample, [int( _train_size * len(df_subsample)), int( _train_val_size * len(df_subsample))])"
   ]
  },
  {
   "cell_type": "code",
   "execution_count": 10,
   "metadata": {},
   "outputs": [
    {
     "name": "stdout",
     "output_type": "stream",
     "text": [
      "Train: (40000, 13) | Val: (5000, 13) | Test: (5000, 13)\n"
     ]
    }
   ],
   "source": [
    "print('Train: {0} | Val: {1} | Test: {2}'.format(train.shape, validate.shape, test.shape))"
   ]
  },
  {
   "cell_type": "code",
   "execution_count": 11,
   "metadata": {},
   "outputs": [],
   "source": [
    "train.to_csv('qm9_train.csv', columns=train.columns, index=None)\n",
    "validate.to_csv('qm9_val.csv', columns=validate.columns, index=None)\n",
    "test.to_csv('qm9_test.csv', columns=test.columns, index=None)"
   ]
  }
 ],
 "metadata": {
  "kernelspec": {
   "display_name": "chemprop_pgg",
   "language": "python",
   "name": "chemprop_pgg"
  },
  "language_info": {
   "codemirror_mode": {
    "name": "ipython",
    "version": 3
   },
   "file_extension": ".py",
   "mimetype": "text/x-python",
   "name": "python",
   "nbconvert_exporter": "python",
   "pygments_lexer": "ipython3",
   "version": "3.8.5"
  }
 },
 "nbformat": 4,
 "nbformat_minor": 4
}
